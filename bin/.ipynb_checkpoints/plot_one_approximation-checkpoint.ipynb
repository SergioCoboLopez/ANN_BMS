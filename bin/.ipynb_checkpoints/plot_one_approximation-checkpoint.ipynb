{
 "cells": [
  {
   "cell_type": "code",
   "execution_count": 2,
   "id": "ddfa66ce-b426-4d15-a0e5-2ca3719dbff9",
   "metadata": {},
   "outputs": [],
   "source": [
    "import pandas as pd\n",
    "import numpy as np\n",
    "import matplotlib\n",
    "import matplotlib.pyplot as plt\n",
    "from matplotlib.pyplot import figure\n",
    "import seaborn as sns\n",
    "import matplotlib.gridspec as gridspec\n",
    "import ast\n",
    "import sys\n",
    "sys.path.append('machine-scientist/')\n",
    "sys.path.append('machine-scientist/Prior/')\n",
    "from mcmc import *\n",
    "from parallel import *\n",
    "from fit_prior import read_prior_par\n",
    "from sklearn.metrics import mean_squared_error\n",
    "from sklearn.metrics import root_mean_squared_error"
   ]
  },
  {
   "cell_type": "code",
   "execution_count": 3,
   "id": "ad528c4e-9606-4902-bffe-64a9161b281e",
   "metadata": {},
   "outputs": [
    {
     "ename": "FileNotFoundError",
     "evalue": "[Errno 2] No such file or directory: '../data/1x_resolution/trained_nns/NN_no_overfit_tanh_sigma_0.04_r_0.csv'",
     "output_type": "error",
     "traceback": [
      "\u001b[0;31m---------------------------------------------------------------------------\u001b[0m",
      "\u001b[0;31mFileNotFoundError\u001b[0m                         Traceback (most recent call last)",
      "Cell \u001b[0;32mIn[3], line 21\u001b[0m\n\u001b[1;32m     15\u001b[0m model_d\u001b[38;5;241m=\u001b[39m\u001b[38;5;124m'\u001b[39m\u001b[38;5;124m../data/\u001b[39m\u001b[38;5;124m'\u001b[39m \u001b[38;5;241m+\u001b[39m resolution \u001b[38;5;241m+\u001b[39m \u001b[38;5;124m'\u001b[39m\u001b[38;5;124m_resolution/trained_nns/\u001b[39m\u001b[38;5;124m'\u001b[39m \u001b[38;5;241m+\u001b[39m file_model\n\u001b[1;32m     16\u001b[0m \u001b[38;5;66;03m# resolution=='1kx':\u001b[39;00m\n\u001b[1;32m     17\u001b[0m \u001b[38;5;66;03m#    model_d='../data/' + '1k_points/trained_nns/' + file_model\u001b[39;00m\n\u001b[1;32m     18\u001b[0m \u001b[38;5;66;03m#else:    \u001b[39;00m\n\u001b[1;32m     19\u001b[0m \u001b[38;5;66;03m#    model_d='../data/' + resolution + '_resolution/trained_nns/' + file_model\u001b[39;00m\n\u001b[0;32m---> 21\u001b[0m d\u001b[38;5;241m=\u001b[39m\u001b[43mpd\u001b[49m\u001b[38;5;241;43m.\u001b[39;49m\u001b[43mread_csv\u001b[49m\u001b[43m(\u001b[49m\u001b[43mmodel_d\u001b[49m\u001b[43m)\u001b[49m\n\u001b[1;32m     22\u001b[0m dn\u001b[38;5;241m=\u001b[39md[d[\u001b[38;5;124m'\u001b[39m\u001b[38;5;124mrep\u001b[39m\u001b[38;5;124m'\u001b[39m]\u001b[38;5;241m==\u001b[39mn]\n\u001b[1;32m     23\u001b[0m dn\u001b[38;5;241m.\u001b[39mset_index(\u001b[38;5;124m'\u001b[39m\u001b[38;5;124mUnnamed: 0\u001b[39m\u001b[38;5;124m'\u001b[39m, inplace\u001b[38;5;241m=\u001b[39m\u001b[38;5;28;01mTrue\u001b[39;00m)\n",
      "File \u001b[0;32m/usr/local/lib/python3.10/dist-packages/pandas/io/parsers/readers.py:1026\u001b[0m, in \u001b[0;36mread_csv\u001b[0;34m(filepath_or_buffer, sep, delimiter, header, names, index_col, usecols, dtype, engine, converters, true_values, false_values, skipinitialspace, skiprows, skipfooter, nrows, na_values, keep_default_na, na_filter, verbose, skip_blank_lines, parse_dates, infer_datetime_format, keep_date_col, date_parser, date_format, dayfirst, cache_dates, iterator, chunksize, compression, thousands, decimal, lineterminator, quotechar, quoting, doublequote, escapechar, comment, encoding, encoding_errors, dialect, on_bad_lines, delim_whitespace, low_memory, memory_map, float_precision, storage_options, dtype_backend)\u001b[0m\n\u001b[1;32m   1013\u001b[0m kwds_defaults \u001b[38;5;241m=\u001b[39m _refine_defaults_read(\n\u001b[1;32m   1014\u001b[0m     dialect,\n\u001b[1;32m   1015\u001b[0m     delimiter,\n\u001b[0;32m   (...)\u001b[0m\n\u001b[1;32m   1022\u001b[0m     dtype_backend\u001b[38;5;241m=\u001b[39mdtype_backend,\n\u001b[1;32m   1023\u001b[0m )\n\u001b[1;32m   1024\u001b[0m kwds\u001b[38;5;241m.\u001b[39mupdate(kwds_defaults)\n\u001b[0;32m-> 1026\u001b[0m \u001b[38;5;28;01mreturn\u001b[39;00m \u001b[43m_read\u001b[49m\u001b[43m(\u001b[49m\u001b[43mfilepath_or_buffer\u001b[49m\u001b[43m,\u001b[49m\u001b[43m \u001b[49m\u001b[43mkwds\u001b[49m\u001b[43m)\u001b[49m\n",
      "File \u001b[0;32m/usr/local/lib/python3.10/dist-packages/pandas/io/parsers/readers.py:620\u001b[0m, in \u001b[0;36m_read\u001b[0;34m(filepath_or_buffer, kwds)\u001b[0m\n\u001b[1;32m    617\u001b[0m _validate_names(kwds\u001b[38;5;241m.\u001b[39mget(\u001b[38;5;124m\"\u001b[39m\u001b[38;5;124mnames\u001b[39m\u001b[38;5;124m\"\u001b[39m, \u001b[38;5;28;01mNone\u001b[39;00m))\n\u001b[1;32m    619\u001b[0m \u001b[38;5;66;03m# Create the parser.\u001b[39;00m\n\u001b[0;32m--> 620\u001b[0m parser \u001b[38;5;241m=\u001b[39m \u001b[43mTextFileReader\u001b[49m\u001b[43m(\u001b[49m\u001b[43mfilepath_or_buffer\u001b[49m\u001b[43m,\u001b[49m\u001b[43m \u001b[49m\u001b[38;5;241;43m*\u001b[39;49m\u001b[38;5;241;43m*\u001b[39;49m\u001b[43mkwds\u001b[49m\u001b[43m)\u001b[49m\n\u001b[1;32m    622\u001b[0m \u001b[38;5;28;01mif\u001b[39;00m chunksize \u001b[38;5;129;01mor\u001b[39;00m iterator:\n\u001b[1;32m    623\u001b[0m     \u001b[38;5;28;01mreturn\u001b[39;00m parser\n",
      "File \u001b[0;32m/usr/local/lib/python3.10/dist-packages/pandas/io/parsers/readers.py:1620\u001b[0m, in \u001b[0;36mTextFileReader.__init__\u001b[0;34m(self, f, engine, **kwds)\u001b[0m\n\u001b[1;32m   1617\u001b[0m     \u001b[38;5;28mself\u001b[39m\u001b[38;5;241m.\u001b[39moptions[\u001b[38;5;124m\"\u001b[39m\u001b[38;5;124mhas_index_names\u001b[39m\u001b[38;5;124m\"\u001b[39m] \u001b[38;5;241m=\u001b[39m kwds[\u001b[38;5;124m\"\u001b[39m\u001b[38;5;124mhas_index_names\u001b[39m\u001b[38;5;124m\"\u001b[39m]\n\u001b[1;32m   1619\u001b[0m \u001b[38;5;28mself\u001b[39m\u001b[38;5;241m.\u001b[39mhandles: IOHandles \u001b[38;5;241m|\u001b[39m \u001b[38;5;28;01mNone\u001b[39;00m \u001b[38;5;241m=\u001b[39m \u001b[38;5;28;01mNone\u001b[39;00m\n\u001b[0;32m-> 1620\u001b[0m \u001b[38;5;28mself\u001b[39m\u001b[38;5;241m.\u001b[39m_engine \u001b[38;5;241m=\u001b[39m \u001b[38;5;28;43mself\u001b[39;49m\u001b[38;5;241;43m.\u001b[39;49m\u001b[43m_make_engine\u001b[49m\u001b[43m(\u001b[49m\u001b[43mf\u001b[49m\u001b[43m,\u001b[49m\u001b[43m \u001b[49m\u001b[38;5;28;43mself\u001b[39;49m\u001b[38;5;241;43m.\u001b[39;49m\u001b[43mengine\u001b[49m\u001b[43m)\u001b[49m\n",
      "File \u001b[0;32m/usr/local/lib/python3.10/dist-packages/pandas/io/parsers/readers.py:1880\u001b[0m, in \u001b[0;36mTextFileReader._make_engine\u001b[0;34m(self, f, engine)\u001b[0m\n\u001b[1;32m   1878\u001b[0m     \u001b[38;5;28;01mif\u001b[39;00m \u001b[38;5;124m\"\u001b[39m\u001b[38;5;124mb\u001b[39m\u001b[38;5;124m\"\u001b[39m \u001b[38;5;129;01mnot\u001b[39;00m \u001b[38;5;129;01min\u001b[39;00m mode:\n\u001b[1;32m   1879\u001b[0m         mode \u001b[38;5;241m+\u001b[39m\u001b[38;5;241m=\u001b[39m \u001b[38;5;124m\"\u001b[39m\u001b[38;5;124mb\u001b[39m\u001b[38;5;124m\"\u001b[39m\n\u001b[0;32m-> 1880\u001b[0m \u001b[38;5;28mself\u001b[39m\u001b[38;5;241m.\u001b[39mhandles \u001b[38;5;241m=\u001b[39m \u001b[43mget_handle\u001b[49m\u001b[43m(\u001b[49m\n\u001b[1;32m   1881\u001b[0m \u001b[43m    \u001b[49m\u001b[43mf\u001b[49m\u001b[43m,\u001b[49m\n\u001b[1;32m   1882\u001b[0m \u001b[43m    \u001b[49m\u001b[43mmode\u001b[49m\u001b[43m,\u001b[49m\n\u001b[1;32m   1883\u001b[0m \u001b[43m    \u001b[49m\u001b[43mencoding\u001b[49m\u001b[38;5;241;43m=\u001b[39;49m\u001b[38;5;28;43mself\u001b[39;49m\u001b[38;5;241;43m.\u001b[39;49m\u001b[43moptions\u001b[49m\u001b[38;5;241;43m.\u001b[39;49m\u001b[43mget\u001b[49m\u001b[43m(\u001b[49m\u001b[38;5;124;43m\"\u001b[39;49m\u001b[38;5;124;43mencoding\u001b[39;49m\u001b[38;5;124;43m\"\u001b[39;49m\u001b[43m,\u001b[49m\u001b[43m \u001b[49m\u001b[38;5;28;43;01mNone\u001b[39;49;00m\u001b[43m)\u001b[49m\u001b[43m,\u001b[49m\n\u001b[1;32m   1884\u001b[0m \u001b[43m    \u001b[49m\u001b[43mcompression\u001b[49m\u001b[38;5;241;43m=\u001b[39;49m\u001b[38;5;28;43mself\u001b[39;49m\u001b[38;5;241;43m.\u001b[39;49m\u001b[43moptions\u001b[49m\u001b[38;5;241;43m.\u001b[39;49m\u001b[43mget\u001b[49m\u001b[43m(\u001b[49m\u001b[38;5;124;43m\"\u001b[39;49m\u001b[38;5;124;43mcompression\u001b[39;49m\u001b[38;5;124;43m\"\u001b[39;49m\u001b[43m,\u001b[49m\u001b[43m \u001b[49m\u001b[38;5;28;43;01mNone\u001b[39;49;00m\u001b[43m)\u001b[49m\u001b[43m,\u001b[49m\n\u001b[1;32m   1885\u001b[0m \u001b[43m    \u001b[49m\u001b[43mmemory_map\u001b[49m\u001b[38;5;241;43m=\u001b[39;49m\u001b[38;5;28;43mself\u001b[39;49m\u001b[38;5;241;43m.\u001b[39;49m\u001b[43moptions\u001b[49m\u001b[38;5;241;43m.\u001b[39;49m\u001b[43mget\u001b[49m\u001b[43m(\u001b[49m\u001b[38;5;124;43m\"\u001b[39;49m\u001b[38;5;124;43mmemory_map\u001b[39;49m\u001b[38;5;124;43m\"\u001b[39;49m\u001b[43m,\u001b[49m\u001b[43m \u001b[49m\u001b[38;5;28;43;01mFalse\u001b[39;49;00m\u001b[43m)\u001b[49m\u001b[43m,\u001b[49m\n\u001b[1;32m   1886\u001b[0m \u001b[43m    \u001b[49m\u001b[43mis_text\u001b[49m\u001b[38;5;241;43m=\u001b[39;49m\u001b[43mis_text\u001b[49m\u001b[43m,\u001b[49m\n\u001b[1;32m   1887\u001b[0m \u001b[43m    \u001b[49m\u001b[43merrors\u001b[49m\u001b[38;5;241;43m=\u001b[39;49m\u001b[38;5;28;43mself\u001b[39;49m\u001b[38;5;241;43m.\u001b[39;49m\u001b[43moptions\u001b[49m\u001b[38;5;241;43m.\u001b[39;49m\u001b[43mget\u001b[49m\u001b[43m(\u001b[49m\u001b[38;5;124;43m\"\u001b[39;49m\u001b[38;5;124;43mencoding_errors\u001b[39;49m\u001b[38;5;124;43m\"\u001b[39;49m\u001b[43m,\u001b[49m\u001b[43m \u001b[49m\u001b[38;5;124;43m\"\u001b[39;49m\u001b[38;5;124;43mstrict\u001b[39;49m\u001b[38;5;124;43m\"\u001b[39;49m\u001b[43m)\u001b[49m\u001b[43m,\u001b[49m\n\u001b[1;32m   1888\u001b[0m \u001b[43m    \u001b[49m\u001b[43mstorage_options\u001b[49m\u001b[38;5;241;43m=\u001b[39;49m\u001b[38;5;28;43mself\u001b[39;49m\u001b[38;5;241;43m.\u001b[39;49m\u001b[43moptions\u001b[49m\u001b[38;5;241;43m.\u001b[39;49m\u001b[43mget\u001b[49m\u001b[43m(\u001b[49m\u001b[38;5;124;43m\"\u001b[39;49m\u001b[38;5;124;43mstorage_options\u001b[39;49m\u001b[38;5;124;43m\"\u001b[39;49m\u001b[43m,\u001b[49m\u001b[43m \u001b[49m\u001b[38;5;28;43;01mNone\u001b[39;49;00m\u001b[43m)\u001b[49m\u001b[43m,\u001b[49m\n\u001b[1;32m   1889\u001b[0m \u001b[43m\u001b[49m\u001b[43m)\u001b[49m\n\u001b[1;32m   1890\u001b[0m \u001b[38;5;28;01massert\u001b[39;00m \u001b[38;5;28mself\u001b[39m\u001b[38;5;241m.\u001b[39mhandles \u001b[38;5;129;01mis\u001b[39;00m \u001b[38;5;129;01mnot\u001b[39;00m \u001b[38;5;28;01mNone\u001b[39;00m\n\u001b[1;32m   1891\u001b[0m f \u001b[38;5;241m=\u001b[39m \u001b[38;5;28mself\u001b[39m\u001b[38;5;241m.\u001b[39mhandles\u001b[38;5;241m.\u001b[39mhandle\n",
      "File \u001b[0;32m/usr/local/lib/python3.10/dist-packages/pandas/io/common.py:873\u001b[0m, in \u001b[0;36mget_handle\u001b[0;34m(path_or_buf, mode, encoding, compression, memory_map, is_text, errors, storage_options)\u001b[0m\n\u001b[1;32m    868\u001b[0m \u001b[38;5;28;01melif\u001b[39;00m \u001b[38;5;28misinstance\u001b[39m(handle, \u001b[38;5;28mstr\u001b[39m):\n\u001b[1;32m    869\u001b[0m     \u001b[38;5;66;03m# Check whether the filename is to be opened in binary mode.\u001b[39;00m\n\u001b[1;32m    870\u001b[0m     \u001b[38;5;66;03m# Binary mode does not support 'encoding' and 'newline'.\u001b[39;00m\n\u001b[1;32m    871\u001b[0m     \u001b[38;5;28;01mif\u001b[39;00m ioargs\u001b[38;5;241m.\u001b[39mencoding \u001b[38;5;129;01mand\u001b[39;00m \u001b[38;5;124m\"\u001b[39m\u001b[38;5;124mb\u001b[39m\u001b[38;5;124m\"\u001b[39m \u001b[38;5;129;01mnot\u001b[39;00m \u001b[38;5;129;01min\u001b[39;00m ioargs\u001b[38;5;241m.\u001b[39mmode:\n\u001b[1;32m    872\u001b[0m         \u001b[38;5;66;03m# Encoding\u001b[39;00m\n\u001b[0;32m--> 873\u001b[0m         handle \u001b[38;5;241m=\u001b[39m \u001b[38;5;28;43mopen\u001b[39;49m\u001b[43m(\u001b[49m\n\u001b[1;32m    874\u001b[0m \u001b[43m            \u001b[49m\u001b[43mhandle\u001b[49m\u001b[43m,\u001b[49m\n\u001b[1;32m    875\u001b[0m \u001b[43m            \u001b[49m\u001b[43mioargs\u001b[49m\u001b[38;5;241;43m.\u001b[39;49m\u001b[43mmode\u001b[49m\u001b[43m,\u001b[49m\n\u001b[1;32m    876\u001b[0m \u001b[43m            \u001b[49m\u001b[43mencoding\u001b[49m\u001b[38;5;241;43m=\u001b[39;49m\u001b[43mioargs\u001b[49m\u001b[38;5;241;43m.\u001b[39;49m\u001b[43mencoding\u001b[49m\u001b[43m,\u001b[49m\n\u001b[1;32m    877\u001b[0m \u001b[43m            \u001b[49m\u001b[43merrors\u001b[49m\u001b[38;5;241;43m=\u001b[39;49m\u001b[43merrors\u001b[49m\u001b[43m,\u001b[49m\n\u001b[1;32m    878\u001b[0m \u001b[43m            \u001b[49m\u001b[43mnewline\u001b[49m\u001b[38;5;241;43m=\u001b[39;49m\u001b[38;5;124;43m\"\u001b[39;49m\u001b[38;5;124;43m\"\u001b[39;49m\u001b[43m,\u001b[49m\n\u001b[1;32m    879\u001b[0m \u001b[43m        \u001b[49m\u001b[43m)\u001b[49m\n\u001b[1;32m    880\u001b[0m     \u001b[38;5;28;01melse\u001b[39;00m:\n\u001b[1;32m    881\u001b[0m         \u001b[38;5;66;03m# Binary mode\u001b[39;00m\n\u001b[1;32m    882\u001b[0m         handle \u001b[38;5;241m=\u001b[39m \u001b[38;5;28mopen\u001b[39m(handle, ioargs\u001b[38;5;241m.\u001b[39mmode)\n",
      "\u001b[0;31mFileNotFoundError\u001b[0m: [Errno 2] No such file or directory: '../data/1x_resolution/trained_nns/NN_no_overfit_tanh_sigma_0.04_r_0.csv'"
     ]
    }
   ],
   "source": [
    "#Read NN and BMS data\n",
    "n=7;runid=0;function='tanh' #tanh, leaky_ReLU\n",
    "realization=0\n",
    "sigma=0.04\n",
    "NPAR=10 #10, 20\n",
    "steps=50000\n",
    "\n",
    "resolution='1x' #'0.5x', '1x', '2x', '4e-3'\n",
    "\n",
    "test=False\n",
    "\n",
    "#Read NN data\n",
    "file_model='NN_no_overfit_' + function + '_sigma_' + str(sigma) + '_r_' + str(realization) + '.csv'\n",
    "\n",
    "model_d='../data/' + resolution + '_resolution/trained_nns/' + file_model\n",
    "# resolution=='1kx':\n",
    "#    model_d='../data/' + '1k_points/trained_nns/' + file_model\n",
    "#else:    \n",
    "#    model_d='../data/' + resolution + '_resolution/trained_nns/' + file_model\n",
    "\n",
    "d=pd.read_csv(model_d)\n",
    "dn=d[d['rep']==n]\n",
    "dn.set_index('Unnamed: 0', inplace=True)\n",
    "dn.index.name = None\n",
    "dn=dn.reset_index(drop=True)\n",
    "display(dn)\n",
    "\n",
    "#Read BMS trace\n",
    "if resolution=='1x':\n",
    "\n",
    "    if sigma==0.1:\n",
    "            filename='BMS_'+function+'_n_'+str(n)+'_sigma_0.10_r_' + str(realization) + '_trace_'+str(steps)+'_prior_'+str(NPAR)+ '.csv'\n",
    "    else:\n",
    "            filename='BMS_'+function+'_n_'+str(n)+'_sigma_'+str(sigma)+ '_r_' + str(realization) + '_trace_'+str(steps)+'_prior_'+str(NPAR)+ '.csv'\n",
    "\n",
    "    if test==False:\n",
    "        trace=pd.read_csv('../data/MSTraces/' + resolution + '_resolution/' + filename, sep=';', header=None, names=['t', 'H', 'expr', 'parvals', 'kk1', 'kk2','kk3'])\n",
    "    elif test==True:\n",
    "        trace=pd.read_csv('../data/MSTraces/' + 'test/' + filename, sep=';', header=None, names=['t', 'H', 'expr', 'parvals', 'kk1', 'kk2','kk3'])\n",
    "    \n",
    "elif resolution=='0.5x':\n",
    "    if sigma==0.1:\n",
    "            filename='BMS_'+function+'_n_'+str(n)+'_sigma_0.10_r_' + str(realization) + '_res_0.1_trace_'+str(steps)+'_prior_'+str(NPAR)+ '.csv'\n",
    "    else:\n",
    "            filename='BMS_'+function+'_n_'+str(n)+'_sigma_'+str(sigma)+ '_r_' + str(realization) + '_res_0.1_trace_'+str(steps)+'_prior_'+str(NPAR) + '.csv'\n",
    "\n",
    "elif resolution=='2x':\n",
    "    if sigma==0.1:\n",
    "            filename='BMS_'+function+'_n_'+str(n)+'_sigma_0.1_r_' + str(realization) + '_res_0.025_trace_'+str(steps)+'_prior_'+str(NPAR)+ '.csv'\n",
    "    else:\n",
    "            filename='BMS_'+function+'_n_'+str(n)+'_sigma_'+str(sigma)+ '_r_' + str(realization) + '_res_0.025_trace_'+str(steps)+'_prior_'+str(NPAR) + '.csv'\n",
    "    \n",
    "    trace=pd.read_csv('../data/MSTraces/' + resolution + '_resolution/' + filename, sep=';', header=None, names=['t', 'H', 'expr', 'parvals', 'kk1', 'kk2','kk3'])\n"
   ]
  },
  {
   "cell_type": "code",
   "execution_count": 4,
   "id": "c711526e-fe9b-4280-ac13-00409985d162",
   "metadata": {},
   "outputs": [
    {
     "ename": "NameError",
     "evalue": "name 'dn' is not defined",
     "output_type": "error",
     "traceback": [
      "\u001b[0;31m---------------------------------------------------------------------------\u001b[0m",
      "\u001b[0;31mNameError\u001b[0m                                 Traceback (most recent call last)",
      "Cell \u001b[0;32mIn[4], line 3\u001b[0m\n\u001b[1;32m      1\u001b[0m \u001b[38;5;66;03m#Parameters to read models\u001b[39;00m\n\u001b[1;32m      2\u001b[0m VARS \u001b[38;5;241m=\u001b[39m [\u001b[38;5;124m'\u001b[39m\u001b[38;5;124mx1\u001b[39m\u001b[38;5;124m'\u001b[39m,]\n\u001b[0;32m----> 3\u001b[0m x \u001b[38;5;241m=\u001b[39m \u001b[43mdn\u001b[49m[[c \u001b[38;5;28;01mfor\u001b[39;00m c \u001b[38;5;129;01min\u001b[39;00m VARS]]\u001b[38;5;241m.\u001b[39mcopy()\n\u001b[1;32m      6\u001b[0m \u001b[38;5;28;01mif\u001b[39;00m NPAR\u001b[38;5;241m==\u001b[39m\u001b[38;5;241m10\u001b[39m:\n\u001b[1;32m      7\u001b[0m     prior_par \u001b[38;5;241m=\u001b[39m read_prior_par(\u001b[38;5;124m'\u001b[39m\u001b[38;5;124mmachine-scientist/Prior/final_prior_param_sq.named_equations.nv1.np10.2017-10-18 18:07:35.089658.dat\u001b[39m\u001b[38;5;124m'\u001b[39m)\n",
      "\u001b[0;31mNameError\u001b[0m: name 'dn' is not defined"
     ]
    }
   ],
   "source": [
    "#Parameters to read models\n",
    "VARS = ['x1',]\n",
    "x = dn[[c for c in VARS]].copy()\n",
    "\n",
    "\n",
    "if NPAR==10:\n",
    "    prior_par = read_prior_par('machine-scientist/Prior/final_prior_param_sq.named_equations.nv1.np10.2017-10-18 18:07:35.089658.dat')\n",
    "elif NPAR==20:\n",
    "    prior_par = read_prior_par('machine-scientist/Prior/final_prior_param_sq.named_equations.nv1.np20.maxs200.2024-05-10 162907.551306.dat')"
   ]
  },
  {
   "cell_type": "code",
   "execution_count": 5,
   "id": "dcf8a4ed-1265-4ec5-88fc-6a9c8f6ea24e",
   "metadata": {},
   "outputs": [
    {
     "ename": "NameError",
     "evalue": "name 'dn' is not defined",
     "output_type": "error",
     "traceback": [
      "\u001b[0;31m---------------------------------------------------------------------------\u001b[0m",
      "\u001b[0;31mNameError\u001b[0m                                 Traceback (most recent call last)",
      "Cell \u001b[0;32mIn[5], line 2\u001b[0m\n\u001b[1;32m      1\u001b[0m \u001b[38;5;66;03m#Minimum description length model\u001b[39;00m\n\u001b[0;32m----> 2\u001b[0m y\u001b[38;5;241m=\u001b[39m\u001b[43mdn\u001b[49m\u001b[38;5;241m.\u001b[39my_noise\n\u001b[1;32m      4\u001b[0m minrow \u001b[38;5;241m=\u001b[39m trace[trace\u001b[38;5;241m.\u001b[39mH \u001b[38;5;241m==\u001b[39m \u001b[38;5;28mmin\u001b[39m(trace\u001b[38;5;241m.\u001b[39mH)]\u001b[38;5;241m.\u001b[39miloc[\u001b[38;5;241m0\u001b[39m]\n\u001b[1;32m      5\u001b[0m minH, minexpr, minparvals \u001b[38;5;241m=\u001b[39m minrow\u001b[38;5;241m.\u001b[39mH, minrow\u001b[38;5;241m.\u001b[39mexpr, ast\u001b[38;5;241m.\u001b[39mliteral_eval(minrow\u001b[38;5;241m.\u001b[39mparvals)\n",
      "\u001b[0;31mNameError\u001b[0m: name 'dn' is not defined"
     ]
    }
   ],
   "source": [
    "#Minimum description length model\n",
    "y=dn.y_noise\n",
    "\n",
    "minrow = trace[trace.H == min(trace.H)].iloc[0]\n",
    "minH, minexpr, minparvals = minrow.H, minrow.expr, ast.literal_eval(minrow.parvals)\n",
    "\n",
    "t = Tree(\n",
    "    variables=list(x.columns),\n",
    "    parameters=['a%d' % i for i in range(NPAR)],\n",
    "    x=x, y=y,\n",
    "    prior_par=prior_par,\n",
    "    max_size=200,\n",
    "    from_string=minexpr,\n",
    ")\n",
    "\n",
    "t.set_par_values(deepcopy(minparvals))"
   ]
  },
  {
   "cell_type": "code",
   "execution_count": 8,
   "id": "c2dcc39c-f88c-40b7-91ab-a61b46c8f8df",
   "metadata": {},
   "outputs": [
    {
     "ename": "AttributeError",
     "evalue": "'function' object has no attribute 't'",
     "output_type": "error",
     "traceback": [
      "\u001b[0;31m---------------------------------------------------------------------------\u001b[0m",
      "\u001b[0;31mAttributeError\u001b[0m                            Traceback (most recent call last)",
      "Cell \u001b[0;32mIn[8], line 17\u001b[0m\n\u001b[1;32m     15\u001b[0m line_w\u001b[38;5;241m=\u001b[39m\u001b[38;5;241m1\u001b[39m;marker_s\u001b[38;5;241m=\u001b[39m\u001b[38;5;241m3\u001b[39m \u001b[38;5;66;03m#width and marker size                                                           \u001b[39;00m\n\u001b[1;32m     16\u001b[0m plt\u001b[38;5;241m.\u001b[39mtitle(\u001b[38;5;28mstr\u001b[39m(function) \u001b[38;5;241m+\u001b[39m \u001b[38;5;124m'\u001b[39m\u001b[38;5;124m, \u001b[39m\u001b[38;5;124m'\u001b[39m \u001b[38;5;241m+\u001b[39m \u001b[38;5;124m'\u001b[39m\u001b[38;5;124mn=\u001b[39m\u001b[38;5;124m'\u001b[39m \u001b[38;5;241m+\u001b[39m \u001b[38;5;28mstr\u001b[39m(n) \u001b[38;5;241m+\u001b[39m\u001b[38;5;124m'\u001b[39m\u001b[38;5;124m, r=\u001b[39m\u001b[38;5;124m'\u001b[39m \u001b[38;5;241m+\u001b[39m \u001b[38;5;28mstr\u001b[39m(realization))\n\u001b[0;32m---> 17\u001b[0m plt\u001b[38;5;241m.\u001b[39mplot(\u001b[43mtrace\u001b[49m\u001b[38;5;241;43m.\u001b[39;49m\u001b[43mt\u001b[49m[trace\u001b[38;5;241m.\u001b[39mt \u001b[38;5;241m>\u001b[39m Nini], trace\u001b[38;5;241m.\u001b[39mH[trace\u001b[38;5;241m.\u001b[39mt \u001b[38;5;241m>\u001b[39m Nini], color\u001b[38;5;241m=\u001b[39mcolor_bms)\n\u001b[1;32m     18\u001b[0m plt\u001b[38;5;241m.\u001b[39mscatter(minrow[\u001b[38;5;124m'\u001b[39m\u001b[38;5;124mt\u001b[39m\u001b[38;5;124m'\u001b[39m], minH,color\u001b[38;5;241m=\u001b[39m\u001b[38;5;124m'\u001b[39m\u001b[38;5;124mr\u001b[39m\u001b[38;5;124m'\u001b[39m)\n\u001b[1;32m     19\u001b[0m sns\u001b[38;5;241m.\u001b[39mdespine(trim\u001b[38;5;241m=\u001b[39m\u001b[38;5;28;01mTrue\u001b[39;00m)\n",
      "\u001b[0;31mAttributeError\u001b[0m: 'function' object has no attribute 't'"
     ]
    },
    {
     "data": {
      "image/png": "[encoded data removed]",
      "text/plain": [
       "<Figure size 1500x500 with 1 Axes>"
      ]
     },
     "metadata": {},
     "output_type": "display_data"
    }
   ],
   "source": [
    "Nini = 00\n",
    "plt.figure(figsize=(15, 5))\n",
    "\n",
    "\n",
    "color_data=sns.color_palette(\"colorblind\")[0]\n",
    "color_noise=sns.color_palette(\"colorblind\")[7]\n",
    "color_ann=sns.color_palette(\"colorblind\")[4]\n",
    "color_bms=sns.color_palette(\"colorblind\")[2]\n",
    "\n",
    "#Define figure size in cm                                                                           \n",
    "Extensions=['.png']\n",
    "\n",
    "#Fonts and sizes                                                                                    \n",
    "size_axis=7;size_ticks=6;size_title=5\n",
    "line_w=1;marker_s=3 #width and marker size                                                           \n",
    "plt.title(str(function) + ', ' + 'n=' + str(n) +', r=' + str(realization))\n",
    "plt.plot(trace.t[trace.t > Nini], trace.H[trace.t > Nini], color=color_bms)\n",
    "plt.scatter(minrow['t'], minH,color='r')\n",
    "sns.despine(trim=True)\n",
    "\n",
    "Name_figure='Energy_' + function + '_n_' + str(n) + '_sigma_' + str(sigma) + '_r_'  + str(realization) + '_par_' + str(NPAR)\n",
    "\n",
    "for ext in Extensions:\n",
    "        plt.savefig('../results/' + Name_figure + ext,dpi=300)\n",
    "\n",
    " \n",
    "plt.show()"
   ]
  },
  {
   "cell_type": "code",
   "execution_count": 7,
   "id": "6acb8cc8-5dd3-41f4-b8f0-8b0bf0da612c",
   "metadata": {},
   "outputs": [
    {
     "ename": "NameError",
     "evalue": "name 'dn' is not defined",
     "output_type": "error",
     "traceback": [
      "\u001b[0;31m---------------------------------------------------------------------------\u001b[0m",
      "\u001b[0;31mNameError\u001b[0m                                 Traceback (most recent call last)",
      "Cell \u001b[0;32mIn[7], line 4\u001b[0m\n\u001b[1;32m      1\u001b[0m \u001b[38;5;66;03m#Plot\u001b[39;00m\n\u001b[1;32m      2\u001b[0m \n\u001b[1;32m      3\u001b[0m \u001b[38;5;66;03m#Validation and train borders\u001b[39;00m\n\u001b[0;32m----> 4\u001b[0m n_points\u001b[38;5;241m=\u001b[39m\u001b[38;5;28mint\u001b[39m(\u001b[38;5;28mlen\u001b[39m(\u001b[43mdn\u001b[49m\u001b[38;5;241m.\u001b[39mindex))\n\u001b[1;32m      5\u001b[0m \u001b[38;5;28mprint\u001b[39m(n_points)\n\u001b[1;32m      6\u001b[0m train_fraction\u001b[38;5;241m=\u001b[39m\u001b[38;5;241m5\u001b[39m\u001b[38;5;241m/\u001b[39m\u001b[38;5;241m8\u001b[39m;valid_fraction\u001b[38;5;241m=\u001b[39m\u001b[38;5;241m1\u001b[39m\u001b[38;5;241m/\u001b[39m\u001b[38;5;241m8\u001b[39m;test_fraction\u001b[38;5;241m=\u001b[39m\u001b[38;5;241m0.2\u001b[39m\n",
      "\u001b[0;31mNameError\u001b[0m: name 'dn' is not defined"
     ]
    }
   ],
   "source": [
    "#Plot\n",
    "\n",
    "#Validation and train borders\n",
    "n_points=int(len(dn.index))\n",
    "print(n_points)\n",
    "train_fraction=5/8;valid_fraction=1/8;test_fraction=0.2\n",
    "train_size_ann=int(n_points*train_fraction)\n",
    "train_size_bms=train_size_ann + int(n_points*valid_fraction)\n",
    "print(train_size_ann)\n",
    "print(train_size_bms)\n",
    "\n",
    "validation_border=dn.loc[train_size_ann-1]['x1']\n",
    "train_border=dn.loc[train_size_bms-1]['x1']\n",
    "\n",
    "dplot = deepcopy(dn)\n",
    "#dplot['ybms'] = t.predict(x)\n",
    "dplot['ybms'] = 0*len(dplot)\n",
    "display(dplot.loc[train_size_ann-1:])\n",
    "\n",
    "#ann errors\n",
    "rmse_nn_train=root_mean_squared_error(dplot.loc[:train_size_bms-1]['ymodel'],dplot.loc[:train_size_bms -1]['y'])\n",
    "rmse_nn_test=root_mean_squared_error(dplot.loc[train_size_bms-1:]['ymodel'],dplot.loc[train_size_bms -1:]['y'])\n",
    "rmse_nn_validation=root_mean_squared_error(dplot.iloc[validation_points]['ymodel'],dplot.iloc[validation_points]['y'])\n",
    "\n",
    "#bms errors\n",
    "rmse_mdl=root_mean_squared_error(dplot.ybms,dn.y)\n",
    "rmse_mdl_train=root_mean_squared_error(dplot.loc[:train_size_bms-1]['ybms'],dn.loc[:train_size_bms-1]['y'])\n",
    "rmse_mdl_test =root_mean_squared_error(dplot.loc[train_size_bms-1:]['ybms'],dn.loc[train_size_bms-1:]['y'])\n",
    "\n",
    " \n",
    "#Define figure size in cm                                                                           \n",
    "cm = 1/2.54 #convert inch to cm                                                                     \n",
    "width = 10*cm; height=8*cm\n",
    "\n",
    "Extensions=['.png']\n",
    "\n",
    "#Fonts and sizes                                                                                    \n",
    "size_axis=7;size_ticks=6;size_title=5\n",
    "line_w=1;marker_s=3 #width and marker size                                                          \n",
    "\n",
    "\n",
    "fig=figure(figsize=(width,height), dpi=300)           \n",
    "\n",
    "#colors from seaborn's colorblind palette\n",
    "color_data=sns.color_palette(\"colorblind\")[0]\n",
    "color_noise=sns.color_palette(\"colorblind\")[7]\n",
    "color_ann=sns.color_palette(\"colorblind\")[4]\n",
    "color_bms=sns.color_palette(\"colorblind\")[2]\n",
    "color_valid_ann=sns.color_palette(\"colorblind\")[8]\n",
    "\n",
    "#Separate train and validation set for plot\n",
    "#~~~~~~~~~~~~~~~~~~~~~~~~~~~~~~~~~~~~~~~~~~~~~~~~~~~~~~\n",
    "validation_points=[11,31,35,42,43,44,76,83,85,95,98,109,116,122,128,138,140,145,151,154,155,156, 159, 160, 166, 169, 170, 176, 181, 186,\n",
    "187,191,202,203,205,220,222,223,225,235,242,243,247,248,254,273,279,282,284,288,293,294,298,307,312,319,325,342,346,352,355,356,362,364,372,\n",
    "378,380,388,389,398,423,435,442,449,456,457,463,469,470,474,482,490,496,501,516,518,523,534,539,542,544,565,575,578,584,590,599,608,609,610,\n",
    "611,614,619,622,626,627,635,646,650,653,654,657,661,671,674,677,679,688,689,699,703,718,719,720,746]\n",
    "dn_validation=dn.iloc[validation_points]\n",
    "#~~~~~~~~~~~~~~~~~~~~~~~~~~~~~~~~~~~~~~~~~~~~~~~~~~~~~~\n",
    "\n",
    "plt.plot(dn['x1'], dn['y_noise'],linewidth=line_w, markersize=2, color=color_noise,label=r'$\\sigma$=' + str(sigma) )\n",
    "plt.plot(dn['x1'], dn['y'],'.', markersize=2, color=color_data,label='observed data') \n",
    "plt.plot(dn['x1'], dn['ymodel'],linewidth=line_w, color=color_ann, label='ann.  rmse_train= %.2E, rmse_test= %.2E' % ( rmse_nn_train, rmse_nn_test))\n",
    "plt.plot(dn_validation['x1'], dn_validation['ymodel'], '.',markersize=1,color=color_valid_ann, label='ann.  new validation rmse=%.2E' % rmse_nn_validation)\n",
    "#plt.plot(dplot.x1, dplot.ybms, color=color_bms, linestyle='--',label='mdl.  rmse_train= %.2E, rmse_test= %.2E' % ( rmse_mdl_train, rmse_mdl_test)) \n",
    "                                                                                \n",
    "\n",
    "#plt.axvline(x=validation_border,linestyle='--',linewidth=line_w, color=color_ann)\n",
    "plt.axvline(x=train_border,linestyle='--',linewidth=line_w, color='k')\n",
    "\n",
    "#plt.title('$%s$' % t.latex(),fontsize=size_title)\n",
    "plt.title('n=%d, r=%d' % (n, realization),fontsize=size_title)\n",
    "plt.xlabel('x',fontsize=size_axis);plt.ylabel('y',fontsize=size_axis)\n",
    "plt.xticks(fontsize=size_ticks);plt.yticks(fontsize=size_ticks)\n",
    "plt.legend(loc='best', fontsize=size_ticks)\n",
    "\n",
    "plt.xlim(-2,2);plt.ylim(-0.15,1.1)  \n",
    "\n",
    "if test==False:\n",
    "    Name_figure='Prediction_' + resolution + '_' + function + '_n_' + str(n) + '_sigma_' + str(sigma) + '_r_'  + str(realization) + '_par_' + str(NPAR)\n",
    "elif test==True:\n",
    "     Name_figure='Prediction_test' + resolution + '_' + function + '_n_' + str(n) + '_sigma_' + str(sigma) + '_r_'  + str(realization) + '_par_' + str(NPAR)\n",
    "\n",
    "    \n",
    "for ext in Extensions:\n",
    "        plt.savefig('../results/' + Name_figure +ext,dpi=300)\n",
    "\n",
    "plt.show()"
   ]
  },
  {
   "cell_type": "code",
   "execution_count": null,
   "id": "66c70ba4-3783-409d-b53f-b826d461ae78",
   "metadata": {},
   "outputs": [],
   "source": []
  }
 ],
 "metadata": {
  "kernelspec": {
   "display_name": "Python 3 (ipykernel)",
   "language": "python",
   "name": "python3"
  },
  "language_info": {
   "codemirror_mode": {
    "name": "ipython",
    "version": 3
   },
   "file_extension": ".py",
   "mimetype": "text/x-python",
   "name": "python",
   "nbconvert_exporter": "python",
   "pygments_lexer": "ipython3",
   "version": "3.10.12"
  }
 },
 "nbformat": 4,
 "nbformat_minor": 5
}
