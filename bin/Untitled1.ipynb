{
 "cells": [
  {
   "cell_type": "code",
   "execution_count": 2,
   "id": "c3b1225c-57a0-47cf-983d-056563293427",
   "metadata": {},
   "outputs": [],
   "source": [
    "import pandas as pd\n",
    "import numpy as np\n",
    "import matplotlib\n",
    "import matplotlib.pyplot as plt\n",
    "from matplotlib.pyplot import figure\n",
    "import seaborn as sns\n",
    "import matplotlib.gridspec as gridspec\n",
    "import ast\n",
    "import sys\n",
    "sys.path.append('machine-scientist/')\n",
    "sys.path.append('machine-scientist/Prior/')\n",
    "from mcmc import *\n",
    "from parallel import *\n",
    "from fit_prior import read_prior_par\n",
    "from sklearn.metrics import mean_squared_error\n",
    "from sklearn.metrics import root_mean_squared_error\n",
    "from sklearn.metrics import mean_absolute_error"
   ]
  },
  {
   "cell_type": "code",
   "execution_count": 5,
   "id": "b5236655-c347-4ca3-8627-aa1e6850a546",
   "metadata": {},
   "outputs": [
    {
     "name": "stdout",
     "output_type": "stream",
     "text": [
      "0\n",
      "0\n",
      "1\n",
      "2\n",
      "3\n",
      "4\n",
      "5\n",
      "6\n",
      "7\n",
      "8\n",
      "9\n",
      "1\n",
      "0\n",
      "1\n",
      "2\n",
      "3\n",
      "4\n",
      "5\n",
      "6\n",
      "7\n",
      "8\n",
      "9\n",
      "2\n",
      "0\n",
      "1\n",
      "2\n",
      "3\n",
      "4\n",
      "5\n",
      "6\n",
      "7\n",
      "8\n",
      "9\n"
     ]
    },
    {
     "data": {
      "text/plain": [
       "<Figure size 9448.82x2125.98 with 0 Axes>"
      ]
     },
     "metadata": {},
     "output_type": "display_data"
    }
   ],
   "source": [
    "#Plot rmse\n",
    "Extensions=['.png', '.pdf']\n",
    "\n",
    "#Fonts and sizes                                                                                    \n",
    "size_axis=7;size_ticks=6;size_title=5\n",
    "line_w=1;marker_s=3 #width and marker size                                                          \n",
    "m_size=6\n",
    "\n",
    "#Define figure size in cm                                                                           \n",
    "cm = 1/2.54 #convert inch to cm                                                                     \n",
    "width = 8*cm; height=6*cm\n",
    "rows=3;cols=10\n",
    "\n",
    "width_panel = width*cols\n",
    "height_panel= height*rows\n",
    "\n",
    "fig=figure(figsize=(width_panel,height_panel), dpi=300)  \n",
    "gs=gridspec.GridSpec(rows,cols)                                                                                                                         \n",
    "gs.update(left=0.1,right=0.98,bottom=0.15,top=0.90,wspace=0.35,hspace=0.1) \n",
    "\n",
    "for row in range(rows):\n",
    "    print(row)\n",
    "    for col in range(cols): \n",
    "        print(col)"
   ]
  },
  {
   "cell_type": "code",
   "execution_count": null,
   "id": "631e8806-f7d8-4f7c-8247-8b9a940a40b4",
   "metadata": {},
   "outputs": [],
   "source": []
  },
  {
   "cell_type": "code",
   "execution_count": null,
   "id": "061397dd-631b-4661-b6a6-8b42647c4642",
   "metadata": {},
   "outputs": [],
   "source": []
  }
 ],
 "metadata": {
  "kernelspec": {
   "display_name": "Python 3 (ipykernel)",
   "language": "python",
   "name": "python3"
  },
  "language_info": {
   "codemirror_mode": {
    "name": "ipython",
    "version": 3
   },
   "file_extension": ".py",
   "mimetype": "text/x-python",
   "name": "python",
   "nbconvert_exporter": "python",
   "pygments_lexer": "ipython3",
   "version": "3.10.12"
  }
 },
 "nbformat": 4,
 "nbformat_minor": 5
}
